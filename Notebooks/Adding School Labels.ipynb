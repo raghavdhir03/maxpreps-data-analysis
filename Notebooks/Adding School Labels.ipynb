{
 "cells": [
  {
   "cell_type": "code",
   "execution_count": 15,
   "id": "6f88d608",
   "metadata": {},
   "outputs": [],
   "source": [
    "import os\n",
    "import pandas as pd"
   ]
  },
  {
   "cell_type": "code",
   "execution_count": 16,
   "id": "508cc8ee",
   "metadata": {},
   "outputs": [
    {
     "data": {
      "text/plain": [
       "'/Users/rdhir/Documents/Research_Project/Data'"
      ]
     },
     "execution_count": 16,
     "metadata": {},
     "output_type": "execute_result"
    }
   ],
   "source": [
    "os.getcwd()"
   ]
  },
  {
   "cell_type": "code",
   "execution_count": 17,
   "id": "b77f3792",
   "metadata": {},
   "outputs": [],
   "source": [
    "os.chdir('/Users/rdhir/Documents/Research_Project/Data')"
   ]
  },
  {
   "cell_type": "code",
   "execution_count": 18,
   "id": "83ebeda7",
   "metadata": {},
   "outputs": [
    {
     "name": "stdout",
     "output_type": "stream",
     "text": [
      "Demographics.csv       finance.csv            public_schools1.csv\r\n",
      "MaxPreps.csv           maxpreps_and_demo.csv  regression_subset.csv\r\n",
      "\u001b[34mStates\u001b[m\u001b[m/                private_schools.csv\r\n",
      "agency_id.csv          public_schools.csv\r\n"
     ]
    }
   ],
   "source": [
    "ls"
   ]
  },
  {
   "cell_type": "code",
   "execution_count": 19,
   "id": "9f42480c",
   "metadata": {},
   "outputs": [
    {
     "name": "stderr",
     "output_type": "stream",
     "text": [
      "/var/folders/vl/lnfg4f0d5872pfxx4dys19km0000gn/T/ipykernel_49165/2778916154.py:1: DtypeWarning: Columns (35,52) have mixed types. Specify dtype option on import or set low_memory=False.\n",
      "  data = pd.read_csv('maxpreps_and_demo.csv')\n"
     ]
    }
   ],
   "source": [
    "data = pd.read_csv('maxpreps_and_demo.csv')"
   ]
  },
  {
   "cell_type": "code",
   "execution_count": 20,
   "id": "d21d0319",
   "metadata": {},
   "outputs": [
    {
     "data": {
      "text/plain": [
       "Index(['Unnamed: 0', 'Date', 'Team 1', 'Team 2', 'Venue', 'Game Type',\n",
       "       'Team 1 Score', 'Team 2 Score', 'Outcome', 'Team 1 Address',\n",
       "       'Team 1 City', 'Team 1 State', 'Team 1 Zipcode', 'Team 2 Address',\n",
       "       'Team 2 City', 'Team 2 State', 'Team 2 Zipcode', 'Team 1 Boys Sports',\n",
       "       'Team 1 Girls Sports', 'Team 2 Boys Sports', 'Team 2 Girls Sports',\n",
       "       'T1 American Indian/Alaska Native',\n",
       "       'T1 Asian or Asian/Pacific Islander', 'T1 Hispanic', 'T1 Black',\n",
       "       'T1 White', 'T1 Nat. Hawaiian or Other Pacific Isl.',\n",
       "       'T1 Two or More Races', 'T1 Total Students', 'T1 Grades 9-12 Students',\n",
       "       'T1 Free and Reduced Lunch', 'T1 Pupil/Teacher Ratio',\n",
       "       'T1 Charter School', 'T1 Magnet School', 'T1 Private School',\n",
       "       'T1 Expenditures/Pupil', 'T1 School ID', 'T1 Agency ID',\n",
       "       'T2 American Indian/Alaska Native',\n",
       "       'T2 Asian or Asian/Pacific Islander', 'T2 Hispanic', 'T2 Black',\n",
       "       'T2 White', 'T2 Nat. Hawaiian or Other Pacific Isl.',\n",
       "       'T2 Two or More Races', 'T2 Total Students', 'T2 Grades 9-12 Students',\n",
       "       'T2 Free and Reduced Lunch', 'T2 Pupil/Teacher Ratio',\n",
       "       'T2 Charter School', 'T2 Magnet School', 'T2 Private School',\n",
       "       'T2 Expenditures/Pupil', 'T2 School ID', 'T2 Agency ID'],\n",
       "      dtype='object')"
      ]
     },
     "execution_count": 20,
     "metadata": {},
     "output_type": "execute_result"
    }
   ],
   "source": [
    "data.columns"
   ]
  },
  {
   "cell_type": "code",
   "execution_count": 21,
   "id": "aac367d8",
   "metadata": {},
   "outputs": [],
   "source": [
    "data.drop(columns = ['Unnamed: 0' ], inplace = True)"
   ]
  },
  {
   "cell_type": "code",
   "execution_count": 22,
   "id": "0d8d69b9",
   "metadata": {},
   "outputs": [],
   "source": [
    "data['Team 1'].fillna('', inplace=True)\n",
    "data['Team 1 Address'].fillna('', inplace=True)\n",
    "data['Team 1 Zipcode'].fillna('', inplace=True)\n",
    "\n",
    "data['Team 2'].fillna('', inplace=True)\n",
    "data['Team 2 Address'].fillna('', inplace=True)\n",
    "data['Team 2 Zipcode'].fillna('', inplace=True)"
   ]
  },
  {
   "cell_type": "code",
   "execution_count": 23,
   "id": "36d8dfbf",
   "metadata": {},
   "outputs": [],
   "source": [
    "## make a ID column so that we keep track of each row after merge\n",
    "data['Team_Addy_Zip_1'] = data['Team 1'] + '_' + data['Team 1 Address'] + '_' + data['Team 1 Zipcode'].astype(str)\n",
    "data['Team_Addy_Zip_2'] = data['Team 2'] + '_' + data['Team 2 Address'] + '_' + data['Team 2 Zipcode'].astype(str)\n",
    "\n",
    "# Use factorize to assign unique numbers to each unique combination of team name and city name\n",
    "data['Team 1 Label'] = pd.factorize(data['Team_Addy_Zip_1'])[0] + 1\n",
    "#data['Team 1 Label'] = data.groupby('Team_Addy_Zip_1').ngroup() + 1"
   ]
  },
  {
   "cell_type": "code",
   "execution_count": 24,
   "id": "602050a2",
   "metadata": {},
   "outputs": [],
   "source": [
    "#Add a Team 2 ID Column by creating a subset that is the Team 1 ID and Team_Name_City_1 and merging it\n",
    "cols = ['Team 1 Label', 'Team_Addy_Zip_1']\n",
    "X = data[cols]\n",
    "X = X.drop_duplicates(subset=['Team 1 Label'], keep='first')\n",
    "X = X.rename(columns = {'Team 1 Label' : 'Team 2 Label',\n",
    "                   'Team_Addy_Zip_1': 'Team_Addy_Zip_2'})"
   ]
  },
  {
   "cell_type": "code",
   "execution_count": 25,
   "id": "e02340d6",
   "metadata": {},
   "outputs": [],
   "source": [
    "data = pd.merge(data, X, on = 'Team_Addy_Zip_2', how = 'left').drop(columns = ['Team_Addy_Zip_1', 'Team_Addy_Zip_2'])"
   ]
  },
  {
   "cell_type": "code",
   "execution_count": 26,
   "id": "4b708a38",
   "metadata": {},
   "outputs": [],
   "source": [
    "data.to_csv('maxpreps_and_demo.csv')"
   ]
  }
 ],
 "metadata": {
  "kernelspec": {
   "display_name": "Python 3 (ipykernel)",
   "language": "python",
   "name": "python3"
  },
  "language_info": {
   "codemirror_mode": {
    "name": "ipython",
    "version": 3
   },
   "file_extension": ".py",
   "mimetype": "text/x-python",
   "name": "python",
   "nbconvert_exporter": "python",
   "pygments_lexer": "ipython3",
   "version": "3.9.12"
  }
 },
 "nbformat": 4,
 "nbformat_minor": 5
}
